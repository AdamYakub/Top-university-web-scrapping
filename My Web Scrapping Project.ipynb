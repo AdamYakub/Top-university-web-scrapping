{
 "cells": [
  {
   "cell_type": "code",
   "execution_count": 1,
   "id": "22e710f4",
   "metadata": {},
   "outputs": [],
   "source": [
    "from bs4 import BeautifulSoup\n",
    "import requests"
   ]
  },
  {
   "cell_type": "code",
   "execution_count": 5,
   "id": "6ca3b56d",
   "metadata": {},
   "outputs": [],
   "source": [
    "url = 'https://www.4icu.org/ng/'"
   ]
  },
  {
   "cell_type": "code",
   "execution_count": 6,
   "id": "a7a8b3c7",
   "metadata": {},
   "outputs": [],
   "source": [
    "source = requests.get(url)"
   ]
  },
  {
   "cell_type": "code",
   "execution_count": 7,
   "id": "c706971a",
   "metadata": {},
   "outputs": [],
   "source": [
    "soup = BeautifulSoup(source.text,'html.parser')"
   ]
  },
  {
   "cell_type": "code",
   "execution_count": 53,
   "id": "aebba0d7",
   "metadata": {},
   "outputs": [],
   "source": [
    "universities = soup.find('tbody').find_all('tr')\n",
    "\n",
    "#print(universities)"
   ]
  },
  {
   "cell_type": "code",
   "execution_count": 49,
   "id": "f43b9a0f",
   "metadata": {},
   "outputs": [],
   "source": [
    "import csv"
   ]
  },
  {
   "cell_type": "code",
   "execution_count": 52,
   "id": "01e340c1",
   "metadata": {},
   "outputs": [],
   "source": [
    "file = open('scrapeuniversities.csv','w',encoding='UTF-8')\n",
    "writer = csv.writer(file)\n",
    "writer.writerow(['rank','name','town'])\n",
    "\n",
    "for university in universities:\n",
    "    name = university.a.text\n",
    "    rank = university.b.text\n",
    "    town = university.get_text().split('\\n')[3]\n",
    "    writer.writerow([rank,name,town])\n",
    "    \n",
    "file.close()"
   ]
  },
  {
   "cell_type": "code",
   "execution_count": null,
   "id": "4cd01cf8",
   "metadata": {},
   "outputs": [],
   "source": []
  }
 ],
 "metadata": {
  "kernelspec": {
   "display_name": "Python 3 (ipykernel)",
   "language": "python",
   "name": "python3"
  },
  "language_info": {
   "codemirror_mode": {
    "name": "ipython",
    "version": 3
   },
   "file_extension": ".py",
   "mimetype": "text/x-python",
   "name": "python",
   "nbconvert_exporter": "python",
   "pygments_lexer": "ipython3",
   "version": "3.9.13"
  }
 },
 "nbformat": 4,
 "nbformat_minor": 5
}
